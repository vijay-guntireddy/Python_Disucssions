{
 "cells": [
  {
   "cell_type": "markdown",
   "metadata": {},
   "source": [
    "1. Benefits of OOPs..?\n",
    "#Provides better \"Delegation of Concern\" - When multiple programmers involve in a project\n",
    "#Interface is open and implementation is hidden\n",
    "#Kernel is still developed in C(not using OOPs)\n",
    "#Avoids tight coupling between components and projects become less complex"
   ]
  },
  {
   "cell_type": "markdown",
   "metadata": {},
   "source": [
    "2. In python programs are nothing but objects and there are three important relation between the objects.\n",
    "IS-A - Inheritance(Generalization)\n",
    "HAS-A - Composition(Reusability)\n",
    "USES-A - Enapsulation(Contract/protocol for the objects to interact)"
   ]
  },
  {
   "cell_type": "markdown",
   "metadata": {},
   "source": [
    "3. what is the use of inheritance ..?\n",
    "#if we use inheritance in our code for code reusability then it is bad design.\n",
    "#inheritance is for \"Generalization\".\n",
    "#Genralization Example : If we learn car driving in driving school then we can drive any car with same interface.\n",
    "#Following the trend and reusability is after effect."
   ]
  },
  {
   "cell_type": "markdown",
   "metadata": {},
   "source": [
    "4. Composition(reusability) ..?\n",
    "Large object is the composition of smaller objects\n",
    "#Example : car having battery,tyres"
   ]
  },
  {
   "cell_type": "markdown",
   "metadata": {},
   "source": [
    "5. USES-A ..?\n",
    "A object knows how to interact with other object functions to serve a purpose\n",
    "Example:\n",
    "Robot knows how to drive a car\n",
    "IF we give car object to robot it will drive.\n",
    "Robot and car are two independent objects."
   ]
  }
 ],
 "metadata": {
  "kernelspec": {
   "display_name": "Python 3",
   "language": "python",
   "name": "python3"
  },
  "language_info": {
   "codemirror_mode": {
    "name": "ipython",
    "version": 3
   },
   "file_extension": ".py",
   "mimetype": "text/x-python",
   "name": "python",
   "nbconvert_exporter": "python",
   "pygments_lexer": "ipython3",
   "version": "3.7.0"
  }
 },
 "nbformat": 4,
 "nbformat_minor": 2
}
