{
 "cells": [
  {
   "cell_type": "code",
   "execution_count": 14,
   "metadata": {},
   "outputs": [
    {
     "name": "stdout",
     "output_type": "stream",
     "text": [
      "MAXYEAR\n",
      "@\n",
      "<class 'int'>\n",
      "MINYEAR\n",
      "@\n",
      "<class 'int'>\n",
      "__builtins__\n",
      "@\n",
      "<class 'dict'>\n",
      "__cached__\n",
      "@\n",
      "<class 'str'>\n",
      "__doc__\n",
      "@\n",
      "<class 'str'>\n",
      "__file__\n",
      "@\n",
      "<class 'str'>\n",
      "__loader__\n",
      "@\n",
      "<class '_frozen_importlib_external.SourceFileLoader'>\n",
      "__name__\n",
      "@\n",
      "<class 'str'>\n",
      "__package__\n",
      "@\n",
      "<class 'str'>\n",
      "__spec__\n",
      "@\n",
      "<class '_frozen_importlib.ModuleSpec'>\n",
      "date\n",
      "@\n",
      "<class 'type'>\n",
      "datetime\n",
      "@\n",
      "<class 'type'>\n",
      "datetime_CAPI\n",
      "@\n",
      "<class 'PyCapsule'>\n",
      "time\n",
      "@\n",
      "<class 'type'>\n",
      "timedelta\n",
      "@\n",
      "<class 'type'>\n",
      "timezone\n",
      "@\n",
      "<class 'type'>\n",
      "tzinfo\n",
      "@\n",
      "<class 'type'>\n",
      "################################\n"
     ]
    }
   ],
   "source": [
    "import datetime\n",
    "#print(dir(datetime))\n",
    "for a in dir(datetime):\n",
    "    print(a)\n",
    "    print('@')\n",
    "    print(type(getattr(datetime, a)))\n",
    "print(\"################################\")\n",
    "#print([(a, 'func' if callable(getattr(datetime, a)) else 'attr') for a in dir(datetime)])\n",
    "#print([(a, 'func' if callable(a) else 'attr') for a in dir(datetime)])"
   ]
  },
  {
   "cell_type": "code",
   "execution_count": null,
   "metadata": {},
   "outputs": [],
   "source": []
  },
  {
   "cell_type": "code",
   "execution_count": null,
   "metadata": {},
   "outputs": [],
   "source": []
  }
 ],
 "metadata": {
  "kernelspec": {
   "display_name": "Python 3",
   "language": "python",
   "name": "python3"
  },
  "language_info": {
   "codemirror_mode": {
    "name": "ipython",
    "version": 3
   },
   "file_extension": ".py",
   "mimetype": "text/x-python",
   "name": "python",
   "nbconvert_exporter": "python",
   "pygments_lexer": "ipython3",
   "version": "3.7.0"
  }
 },
 "nbformat": 4,
 "nbformat_minor": 2
}
